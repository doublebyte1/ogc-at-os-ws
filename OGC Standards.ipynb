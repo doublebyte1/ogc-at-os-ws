{
 "cells": [
  {
   "cell_type": "markdown",
   "id": "df662a3d",
   "metadata": {},
   "source": [
    "# How-to consume OGC Services and Encodings"
   ]
  },
  {
   "cell_type": "markdown",
   "id": "0fb25447",
   "metadata": {},
   "source": [
    "![title](https://external-content.duckduckgo.com/iu/?u=https%3A%2F%2Fmundogeo.com%2Fwp-content%2Fuploads%2F2014%2F06%2FOGC_Logo.jpg&f=1&nofb=1)"
   ]
  },
  {
   "cell_type": "markdown",
   "id": "ab639574",
   "metadata": {},
   "source": [
    "In this nb we will cover the following standards:\n",
    "* WFS\n",
    "* WMTS\n",
    "* GML\n",
    "* GeoPackage\n",
    "* GeoTIFF"
   ]
  },
  {
   "cell_type": "markdown",
   "id": "d17a7715",
   "metadata": {},
   "source": [
    "## Web Feature Service (WFS)"
   ]
  },
  {
   "cell_type": "code",
   "execution_count": null,
   "id": "572bc38d",
   "metadata": {
    "scrolled": true
   },
   "outputs": [],
   "source": [
    "#! pip install owslib"
   ]
  },
  {
   "cell_type": "code",
   "execution_count": 1,
   "id": "a64aa283",
   "metadata": {},
   "outputs": [],
   "source": [
    "import owslib"
   ]
  },
  {
   "cell_type": "code",
   "execution_count": 2,
   "id": "c0318c64",
   "metadata": {},
   "outputs": [],
   "source": [
    "from owslib.wfs import WebFeatureService"
   ]
  },
  {
   "cell_type": "code",
   "execution_count": 13,
   "id": "a3bfbd77",
   "metadata": {},
   "outputs": [],
   "source": [
    "# Retrieve API key"
   ]
  },
  {
   "cell_type": "code",
   "execution_count": 5,
   "id": "ba3bc952",
   "metadata": {},
   "outputs": [],
   "source": [
    "from configparser import ConfigParser"
   ]
  },
  {
   "cell_type": "code",
   "execution_count": 6,
   "id": "f42260b8",
   "metadata": {},
   "outputs": [],
   "source": [
    "parser = ConfigParser()"
   ]
  },
  {
   "cell_type": "code",
   "execution_count": 9,
   "id": "62698829",
   "metadata": {},
   "outputs": [
    {
     "data": {
      "text/plain": [
       "['notebook.cfg']"
      ]
     },
     "execution_count": 9,
     "metadata": {},
     "output_type": "execute_result"
    }
   ],
   "source": [
    "parser.read('notebook.cfg')"
   ]
  },
  {
   "cell_type": "code",
   "execution_count": 10,
   "id": "ef4ee62d",
   "metadata": {},
   "outputs": [],
   "source": [
    "key = parser['os_data_hub']['key']"
   ]
  },
  {
   "cell_type": "code",
   "execution_count": 3,
   "id": "0d6286ae",
   "metadata": {},
   "outputs": [],
   "source": [
    "#Instantiate the service"
   ]
  },
  {
   "cell_type": "code",
   "execution_count": 12,
   "id": "4e210399",
   "metadata": {},
   "outputs": [],
   "source": [
    "wfs11 = WebFeatureService(url='https://api.os.uk/features/v1/wfs?key=' + key, version='1.1.0')"
   ]
  },
  {
   "cell_type": "code",
   "execution_count": null,
   "id": "0d7eb7a7",
   "metadata": {},
   "outputs": [],
   "source": [
    "#Get title"
   ]
  },
  {
   "cell_type": "code",
   "execution_count": null,
   "id": "69adbf68",
   "metadata": {
    "scrolled": true
   },
   "outputs": [],
   "source": [
    "wfs11.identification.title"
   ]
  },
  {
   "cell_type": "code",
   "execution_count": null,
   "id": "5bbd7980",
   "metadata": {},
   "outputs": [],
   "source": [
    "#List operations"
   ]
  },
  {
   "cell_type": "code",
   "execution_count": null,
   "id": "85b5d5a8",
   "metadata": {
    "scrolled": true
   },
   "outputs": [],
   "source": [
    "[operation.name for operation in wfs11.operations]"
   ]
  },
  {
   "cell_type": "markdown",
   "id": "2ac53877",
   "metadata": {},
   "source": [
    "https://api.os.uk/features/v1/wfs?key=ZJh5XA3tDYp9irYQGX0i8GOELikMuV0w&request=GetCapabilities&service=wfs&version=1.1.0&"
   ]
  },
  {
   "cell_type": "code",
   "execution_count": null,
   "id": "c4bcfed6",
   "metadata": {},
   "outputs": [],
   "source": [
    "#List feature types"
   ]
  },
  {
   "cell_type": "code",
   "execution_count": null,
   "id": "738854fc",
   "metadata": {},
   "outputs": [],
   "source": [
    "list(wfs11.contents)"
   ]
  },
  {
   "cell_type": "code",
   "execution_count": null,
   "id": "0d227322",
   "metadata": {
    "scrolled": true
   },
   "outputs": [],
   "source": [
    "len(list(wfs.contents))"
   ]
  },
  {
   "cell_type": "code",
   "execution_count": null,
   "id": "88c0b89f",
   "metadata": {},
   "outputs": [],
   "source": [
    "#Download data, using parameters"
   ]
  },
  {
   "cell_type": "code",
   "execution_count": null,
   "id": "75b3b33c",
   "metadata": {},
   "outputs": [],
   "source": [
    "#EPSG:27700"
   ]
  },
  {
   "cell_type": "code",
   "execution_count": null,
   "id": "6ba9ba8f",
   "metadata": {},
   "outputs": [],
   "source": [
    "response = wfs11.getfeature(typename='osfeatures:Sites_AccessPoint', srsname='urn:x-ogc:def:crs:EPSG:27700')"
   ]
  },
  {
   "cell_type": "code",
   "execution_count": null,
   "id": "6f4f29f6",
   "metadata": {
    "scrolled": true
   },
   "outputs": [],
   "source": [
    "response.read()"
   ]
  },
  {
   "cell_type": "code",
   "execution_count": null,
   "id": "98c78489",
   "metadata": {},
   "outputs": [],
   "source": [
    "response = wfs11.getfeature(typename='osfeatures:Sites_AccessPoint', srsname='urn:x-ogc:def:crs:EPSG:27700')"
   ]
  },
  {
   "cell_type": "code",
   "execution_count": null,
   "id": "15b19bf8",
   "metadata": {},
   "outputs": [],
   "source": [
    "#Dump the results to a GML file"
   ]
  },
  {
   "cell_type": "code",
   "execution_count": null,
   "id": "ae0809c3",
   "metadata": {},
   "outputs": [],
   "source": [
    "out = open('data.gml', 'wb')\n",
    "out.write(bytes(response.read()))\n",
    "out.close()"
   ]
  },
  {
   "cell_type": "markdown",
   "id": "3e49e4d8",
   "metadata": {},
   "source": [
    "## Web Map Tile Service (WMTS)"
   ]
  },
  {
   "cell_type": "markdown",
   "id": "2284a163",
   "metadata": {},
   "source": [
    "https://api.os.uk/maps/raster/v1/wmts?key=ZJh5XA3tDYp9irYQGX0i8GOELikMuV0w&request=GetCapabilities&service=wmts&version=1.1.0&"
   ]
  },
  {
   "cell_type": "code",
   "execution_count": null,
   "id": "6056fe16",
   "metadata": {},
   "outputs": [],
   "source": [
    "#! pip install folium"
   ]
  },
  {
   "cell_type": "code",
   "execution_count": null,
   "id": "dcc07acc",
   "metadata": {},
   "outputs": [],
   "source": [
    "import folium"
   ]
  },
  {
   "cell_type": "markdown",
   "id": "aebaff85",
   "metadata": {},
   "source": [
    "https://api.os.uk/maps/raster/v1/wmts?key=ZJh5XA3tDYp9irYQGX0i8GOELikMuV0w&service=WMTS&request=GetTile&version=2.0.0&height=256&width=256&outputFormat=image/png&style=default&layer=Light_3857&tileMatrixSet=EPSG:3857&tileMatrix=14&tileRow=5227&tileCol=8057"
   ]
  },
  {
   "cell_type": "code",
   "execution_count": null,
   "id": "6511ef03",
   "metadata": {},
   "outputs": [],
   "source": [
    "url = 'https://api.os.uk/maps/raster/v1/wmts?key=ZJh5XA3tDYp9irYQGX0i8GOELikMuV0w';   "
   ]
  },
  {
   "cell_type": "code",
   "execution_count": null,
   "id": "aa41872d",
   "metadata": {},
   "outputs": [],
   "source": [
    "pars = {'key': apiKey, 'service': 'WMTS', \n",
    "        'request': 'GetTile', 'version': '2.0.0', 'height': 256, 'width': 256,\n",
    "        'outputFormat': 'image/png', 'style': 'default', 'layer': 'Outdoor_3857', 'tileMatrixSet': 'EPSG:3857' }"
   ]
  },
  {
   "cell_type": "code",
   "execution_count": null,
   "id": "f9bd8b0c",
   "metadata": {},
   "outputs": [],
   "source": [
    "pars"
   ]
  },
  {
   "cell_type": "code",
   "execution_count": null,
   "id": "692351c7",
   "metadata": {},
   "outputs": [],
   "source": [
    "#queryString ='key=' + apiKey + '&service=WMTS&request=GetTile&version=2.0.0&height=256&width=256&outputFormat=image/png&style=default&layer=Light_3857&tileMatrixSet=EPSG:3857&tileMatrix={z}&tileRow={y}&tileCol={x}'"
   ]
  },
  {
   "cell_type": "code",
   "execution_count": null,
   "id": "581f4b30",
   "metadata": {},
   "outputs": [],
   "source": [
    "queryString = 'key=%s&service=%s&request=%s&version=%s&height=%d&width=%d&outputFormat=%s&style=%s&layer=%s&tileMatrixSet=%s&tileMatrix={z}&tileRow={y}&tileCol={x}' %(pars['key'],pars['service'],pars['request'],pars['version'],pars['height'],pars['width'],pars['outputFormat'],pars['style'],pars['layer'],pars['tileMatrixSet'])"
   ]
  },
  {
   "cell_type": "code",
   "execution_count": null,
   "id": "5e536e26",
   "metadata": {
    "scrolled": true
   },
   "outputs": [],
   "source": [
    "queryString"
   ]
  },
  {
   "cell_type": "code",
   "execution_count": null,
   "id": "b9ae29fe",
   "metadata": {},
   "outputs": [],
   "source": [
    "url + '&' + queryString"
   ]
  },
  {
   "cell_type": "code",
   "execution_count": null,
   "id": "2fe70eb4",
   "metadata": {
    "scrolled": true
   },
   "outputs": [],
   "source": [
    "folium.Map(location=[55.3617609, -3.4433238],\n",
    "           zoom_start=7,\n",
    "           tiles= url + '&' + queryString,\n",
    "           attr='Ordnance Survey')"
   ]
  },
  {
   "cell_type": "markdown",
   "id": "aee733c1",
   "metadata": {},
   "source": [
    "## Read Files "
   ]
  },
  {
   "cell_type": "code",
   "execution_count": null,
   "id": "136cca89",
   "metadata": {},
   "outputs": [],
   "source": [
    "# Use Geopandas and Rasterio"
   ]
  },
  {
   "cell_type": "code",
   "execution_count": null,
   "id": "dd5d7ff4",
   "metadata": {},
   "outputs": [],
   "source": [
    "#! pip install geopandas"
   ]
  },
  {
   "cell_type": "code",
   "execution_count": null,
   "id": "f56bc3f6",
   "metadata": {},
   "outputs": [],
   "source": [
    "import geopandas as gpd"
   ]
  },
  {
   "cell_type": "code",
   "execution_count": null,
   "id": "0af7a7f9",
   "metadata": {},
   "outputs": [],
   "source": [
    "layer = gpd.read_file('data.gml')"
   ]
  },
  {
   "cell_type": "code",
   "execution_count": null,
   "id": "0971d797",
   "metadata": {
    "scrolled": true
   },
   "outputs": [],
   "source": [
    "layer"
   ]
  },
  {
   "cell_type": "code",
   "execution_count": null,
   "id": "8d8206a9",
   "metadata": {},
   "outputs": [],
   "source": [
    "layer.plot(color='red', marker='o', figsize=(15, 10))"
   ]
  },
  {
   "cell_type": "code",
   "execution_count": null,
   "id": "4af0ecd0",
   "metadata": {},
   "outputs": [],
   "source": [
    "gpkg = gpd.read_file('bdline_gpkg_gb/data/bdline_gb.gpkg')\n",
    "#gpkg = gpd.read_file('zip:///Users/joana/Downloads/bdline_gpkg_gb.zip!data')"
   ]
  },
  {
   "cell_type": "code",
   "execution_count": null,
   "id": "7c38d6d1",
   "metadata": {},
   "outputs": [],
   "source": [
    "gpkg"
   ]
  },
  {
   "cell_type": "code",
   "execution_count": null,
   "id": "83a94817",
   "metadata": {},
   "outputs": [],
   "source": [
    "gpkg.plot(column=\"Name\",\n",
    "    figsize=(30, 20))"
   ]
  },
  {
   "cell_type": "code",
   "execution_count": null,
   "id": "b88c7ff6",
   "metadata": {},
   "outputs": [],
   "source": [
    "#! pip install rasterio"
   ]
  },
  {
   "cell_type": "code",
   "execution_count": null,
   "id": "60c7251c",
   "metadata": {},
   "outputs": [],
   "source": [
    "import rasterio"
   ]
  },
  {
   "cell_type": "code",
   "execution_count": null,
   "id": "40f0dbd1",
   "metadata": {},
   "outputs": [],
   "source": [
    "from rasterio.plot import show"
   ]
  },
  {
   "cell_type": "code",
   "execution_count": null,
   "id": "2a71d7c1",
   "metadata": {},
   "outputs": [],
   "source": [
    "#!pip install matplotlib"
   ]
  },
  {
   "cell_type": "code",
   "execution_count": null,
   "id": "7e31df79",
   "metadata": {},
   "outputs": [],
   "source": [
    "import matplotlib.pyplot as plt\n",
    "from matplotlib.pyplot import figure"
   ]
  },
  {
   "cell_type": "code",
   "execution_count": null,
   "id": "e4b90362",
   "metadata": {},
   "outputs": [],
   "source": [
    "src = rasterio.open(\"ras250_gb/data/SU.tif\")"
   ]
  },
  {
   "cell_type": "code",
   "execution_count": null,
   "id": "b99c546c",
   "metadata": {},
   "outputs": [],
   "source": [
    "array=src.read(1)"
   ]
  },
  {
   "cell_type": "code",
   "execution_count": null,
   "id": "829dcf98",
   "metadata": {
    "scrolled": true
   },
   "outputs": [],
   "source": [
    "array.shape"
   ]
  },
  {
   "cell_type": "markdown",
   "id": "9b166bc0",
   "metadata": {},
   "source": [
    "https://matplotlib.org/stable/tutorials/colors/colormaps.html"
   ]
  },
  {
   "cell_type": "code",
   "execution_count": null,
   "id": "fc970682",
   "metadata": {
    "scrolled": false
   },
   "outputs": [],
   "source": [
    "plt.imshow(array, cmap='cividis')"
   ]
  },
  {
   "cell_type": "code",
   "execution_count": null,
   "id": "4f4f98be",
   "metadata": {},
   "outputs": [],
   "source": [
    "src.close()"
   ]
  }
 ],
 "metadata": {
  "kernelspec": {
   "display_name": "Python 3",
   "language": "python",
   "name": "python3"
  },
  "language_info": {
   "codemirror_mode": {
    "name": "ipython",
    "version": 3
   },
   "file_extension": ".py",
   "mimetype": "text/x-python",
   "name": "python",
   "nbconvert_exporter": "python",
   "pygments_lexer": "ipython3",
   "version": "3.9.5"
  }
 },
 "nbformat": 4,
 "nbformat_minor": 5
}
